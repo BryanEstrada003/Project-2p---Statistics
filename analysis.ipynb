{
 "cells": [
  {
   "cell_type": "markdown",
   "metadata": {},
   "source": [
    "# Análisis Descriptivo e Inferencial de Datos\n",
    "\n",
    "Canton a analizar: Milagro -> 0910\n",
    "\n",
    "Provincia: Guayas\n",
    "\n",
    "Ciclo: 2019-2020"
   ]
  },
  {
   "cell_type": "markdown",
   "metadata": {},
   "source": [
    "## Analisis general de los datos"
   ]
  },
  {
   "cell_type": "code",
   "execution_count": 1,
   "metadata": {},
   "outputs": [],
   "source": [
    "import pandas as pd\n",
    "import numpy as np\n",
    "import matplotlib.pyplot as plt\n",
    "import seaborn as sns\n",
    "from scipy import stats\n",
    "from statsmodels.stats.proportion import proportions_ztest\n",
    "from scipy.stats import f\n",
    "from scipy.stats import chi2_contingency\n",
    "from scipy.stats import normaltest\n",
    "import statsmodels.api as sm\n",
    "import matplotlib.pyplot as plt\n",
    "#conda activate p2-statistics"
   ]
  },
  {
   "cell_type": "markdown",
   "metadata": {},
   "source": [
    "![dic](dic.png)\n"
   ]
  },
  {
   "cell_type": "code",
   "execution_count": 2,
   "metadata": {},
   "outputs": [
    {
     "name": "stderr",
     "output_type": "stream",
     "text": [
      "C:\\Users\\HOME\\AppData\\Local\\Temp\\ipykernel_10020\\116504476.py:1: DtypeWarning: Columns (2,22,24,25,26,27) have mixed types. Specify dtype option on import or set low_memory=False.\n",
      "  micro_2 = pd.read_csv('SBAC20_micro_272370_20210121_CSV.csv', sep=';')\n"
     ]
    },
    {
     "name": "stdout",
     "output_type": "stream",
     "text": [
      "Unique values of financiamiento:\n",
      "[     1      3      2 999999]\n",
      "\n",
      "Unique values of tp_sexo:\n",
      "[1 2]\n",
      "\n",
      "Unique values of tp_area:\n",
      "[ 2  1 98]\n",
      "\n",
      "Unique values of inev:\n",
      "['7,3' '7,22' '7,38' '7,27' '6,69' '7,66' '7,21' '6,92' '7,25' '7,75' '7'\n",
      " '6,83' '7,12' '8,32' '6,87' '6,72' '7,19' '6,75' '6,68' '7,06' '7,14'\n",
      " '7,15' '7,33' '7,45' '7,36' '7,46' '6,58' '7,02' '7,17' '7,54' '8,74'\n",
      " '6,8' '7,05' '999999' '6,33' '7,63' '6,16' '7,64' '7,41' '6,77' '8,85'\n",
      " '6,36' '6,88' '6,55' '7,31' '6,85' '7,28' '7,09' '7,08' '6,73' '6,76'\n",
      " '7,4' '7,04' '7,59' '7,18' '7,78' '6,53' '7,44' '6,98' '7,74' '6,62'\n",
      " '6,56' '7,24' '6,66' '6,37' '6,5' '7,56' '7,77' '6,74' '6,46' '7,61'\n",
      " '7,29' '7,93' '6,95' '6,93' '6,78' '7,34' '6,81' '6,99' '7,62' '7,39'\n",
      " '7,55' '6,64' '8,08' '7,96' '6,44' '7,49' '7,23' '6,1' '7,47' '7,73'\n",
      " '7,26' '7,48' '7,7' '6,57' '6,86' '6,49' '6,71' '7,2' '7,07' '8,05'\n",
      " '7,01' '6,94' '7,16' '6,31' '6,08' '6,63' '6,54' '7,65' '8,26' '7,83'\n",
      " '8,23' '9,05' '7,76' '7,37' '8,25' '7,72' '8,64' '6,91' '6,35' '6,97'\n",
      " '7,42' '9,44' '8,17' '8,72' '9,82' '9,26' '9,18' '8,3' '8,99' '7,58'\n",
      " '9,51' '9,77' '8,56' '7,5' '9,63' '9,16' '7,1' '6,89' '8,01' '7,8' '7,89'\n",
      " '6,59' '6,7' '8,06' '7,51' '7,71' '6,9' '8,6' '8,47' '7,94' '8,24' '6,96'\n",
      " '7,13' '8,76' '9,74' '8,21' '7,32' '7,95' '7,99' '8,18' '8,38' '7,82'\n",
      " '6,52' '7,6' '7,86' '8,43' '8,94' '9,15' '7,03' '8,68' '8,96' '7,35'\n",
      " '8,28' '9,95' '8,5' '8,15' '7,43' '8,33' '7,53' '8,07' '8,11' '6,48'\n",
      " '7,9' '8,52' '7,11' '8,55' '6,09' '6,84' '8,71' '6,82' '8,1' '9,41'\n",
      " '8,35' '6,61' '6,34' '7,97' '6,43' '6,27' '5,53' '9,73' '9,59' '9' '8,53'\n",
      " '8,51' '9,4' '6,17' '7,57' '6,32' '6,11' '6,4' '6,42' '6,51' '6,38'\n",
      " '6,47' '6,41' '8,7' '9,23' '8,9' '9,5' '8,75' '7,81' '7,79' '7,88' '8,54'\n",
      " '8,4' '6,6' '8,37' '8,84' '7,85' '8,91' '5,95' '9,65' '7,84' '9,07'\n",
      " '8,36' '5,26' '6,26' '7,91' '6,12' '6,29' '6,28' '8,04' '6,39' '9,09'\n",
      " '8,45' '9,46' '9,27' '9,04' '8,12' '8,62' '8,31' '8,61' '9,35' '7,92'\n",
      " '8,95' '8,82' '9,25' '9,58' '9,48' '9,68' '8,69' '8,03' '8,83' '8,27'\n",
      " '9,11' '7,67' '9,66' '9,78' '8,29' '8,42' '9,37' '8,16' '9,86' '9,85'\n",
      " '9,67' '8,81' '8,14' '8,66' '9,45' '8,98' '9,47' '9,7' '8,34' '9,28'\n",
      " '8,57' '9,56' '9,55' '9,57' '9,42' '8,02' '9,69' '8,87' '9,39' '8,59'\n",
      " '9,2' '8,73' '8,41' '9,71' '9,8' '9,17' '9,19' '9,08' '9,36' '7,98'\n",
      " '8,63' '9,29' '6,22' '8,97' '5,88' '8,67' '9,53' '8,49' '10' '8,92'\n",
      " '9,32' '9,76' '9,43' '9,88' '8,78' '9,14' '9,83' '7,87' '9,01' '8,88'\n",
      " '9,9' '9,96' '8,09' '9,3' '9,93' '9,91' '9,54' '8,22' '9,92' '9,87'\n",
      " '8,86' '8,93' '9,52' '9,72' '9,22' '9,49' '9,84' '6,06' '8,89' '9,64'\n",
      " '7,52' '7,68' '6,65' '9,6' '9,21' '9,24' '6,14' '6,01' '6,25' '6,67'\n",
      " '5,38' '5,7' '9,1' '9,61' '6,45' '9,02' '8,77' '6,79' '8' '7,69' '5,75'\n",
      " '5,52' '8,8' '6,3' '6,23' '8,13' '9,03' '5,8' '5,65' '9,62' '8,19' '6,07'\n",
      " '9,75' '8,79' '8,65' '8,58' '8,39' '8,2' '9,31' '6,19' '8,46' '9,06'\n",
      " '6,13' '9,34' '6,21' '5,85' '8,48' '9,97' '9,94' '9,79' '5,36' '5,58'\n",
      " '9,12' '9,33' '9,81' '9,13' '6,18' '8,44' '6,15' '6,24' '9,38' '9,89'\n",
      " '5,96' '5,98' '6,2' '6,05' '5,64' '6,02' '5,93' '5,99' '6,03' '5,83'\n",
      " '5,71' '6,04' '5,68' '5,45' '5,81' '5,31' '5,92' '5,86' '5,67' '5,63'\n",
      " '5,13' '5,87' '5,79' '5,94' '5,9' '5,19' '5,72' '5,66' '4,19' '5,29'\n",
      " '5,56' '5,73' '6' '5,89' '5,97' '5,91' '5,78' '5,62' '5,82' '5,61' '5,55'\n",
      " '4,87' '5,39' '5,84' '5,35' '5,27' '5,18' '5,33' '4,99' '5,6' '4,44'\n",
      " '5,77' '5,76' '5,06' '5,59' '5,44' '5,46' '5,74' '5,41' '5,5' '5,22'\n",
      " '5,43' '4,81' '5,37' '5,03' '4' '5,51' '5,3' '5,57' '4,79' '5,47' '5,25'\n",
      " '4,66' '5,09' 999999 '5,34' '4,8' '5,69' '4,38' '5,16' '5,42']\n",
      "\n",
      "Unique values of pes:\n",
      "[   640    635    650    645    600    690    630    615    610    595\n",
      "    625    775    590    660    675    570    680    825    605 999999\n",
      "    555    685    560    580    670    840    585    620    700    655\n",
      "    695    575    725    665    750    730    565    545    705    540\n",
      "    710    755    875    770    805    930    980    900    890    765\n",
      "    870    965    800    740    945    895    715    745    810    790\n",
      "    760    735    820    785    855    880    815    865    995    795\n",
      "    780    720    830    915    495    940    860    535    835    950\n",
      "    475    920    910    905    975    990    925    955    850    935\n",
      "    970    885    960      0    657    525    845   1000    985    530\n",
      "    485    515    586    520    505    643    671    550    593    728\n",
      "    490    510    881    664    707    607    629    621    614    636\n",
      "    500    693    480    410    557    579    543    571    455    470\n",
      "    514    430    714    721    465    536    686    749    742    400\n",
      "    450    756    812    819    763    440    784    853    679    529\n",
      "    564    791    445    420    833    460    415    435    521]\n",
      "\n"
     ]
    }
   ],
   "source": [
    "micro_2 = pd.read_csv('SBAC20_micro_272370_20210121_CSV.csv', sep=';')\n",
    "micro_2.drop('codigo', axis=1, inplace=True)\n",
    "\n",
    "variables = ['financiamiento', 'tp_sexo', 'tp_area', 'inev', 'pes']\n",
    "\n",
    "for variable in variables:\n",
    "    print(f\"Unique values of {variable}:\")\n",
    "    print(micro_2[variable].unique())\n",
    "    print()"
   ]
  },
  {
   "cell_type": "code",
   "execution_count": 3,
   "metadata": {},
   "outputs": [
    {
     "name": "stderr",
     "output_type": "stream",
     "text": [
      "C:\\Users\\HOME\\AppData\\Local\\Temp\\ipykernel_10020\\1502953223.py:8: SettingWithCopyWarning: \n",
      "A value is trying to be set on a copy of a slice from a DataFrame\n",
      "\n",
      "See the caveats in the documentation: https://pandas.pydata.org/pandas-docs/stable/user_guide/indexing.html#returning-a-view-versus-a-copy\n",
      "  micro_milagro.drop(columns_to_drop, axis=1, inplace=True)\n",
      "C:\\Users\\HOME\\AppData\\Local\\Temp\\ipykernel_10020\\1502953223.py:12: SettingWithCopyWarning: \n",
      "A value is trying to be set on a copy of a slice from a DataFrame\n",
      "\n",
      "See the caveats in the documentation: https://pandas.pydata.org/pandas-docs/stable/user_guide/indexing.html#returning-a-view-versus-a-copy\n",
      "  micro_milagro.drop(to_drop, axis=1, inplace=True)\n"
     ]
    },
    {
     "data": {
      "text/html": [
       "<div>\n",
       "<style scoped>\n",
       "    .dataframe tbody tr th:only-of-type {\n",
       "        vertical-align: middle;\n",
       "    }\n",
       "\n",
       "    .dataframe tbody tr th {\n",
       "        vertical-align: top;\n",
       "    }\n",
       "\n",
       "    .dataframe thead th {\n",
       "        text-align: right;\n",
       "    }\n",
       "</style>\n",
       "<table border=\"1\" class=\"dataframe\">\n",
       "  <thead>\n",
       "    <tr style=\"text-align: right;\">\n",
       "      <th></th>\n",
       "      <th>financiamiento</th>\n",
       "      <th>tp_sexo</th>\n",
       "      <th>tp_area</th>\n",
       "      <th>inev</th>\n",
       "      <th>pes</th>\n",
       "    </tr>\n",
       "  </thead>\n",
       "  <tbody>\n",
       "    <tr>\n",
       "      <th>53978</th>\n",
       "      <td>2</td>\n",
       "      <td>2</td>\n",
       "      <td>1</td>\n",
       "      <td>7,31</td>\n",
       "      <td>650</td>\n",
       "    </tr>\n",
       "    <tr>\n",
       "      <th>54304</th>\n",
       "      <td>2</td>\n",
       "      <td>2</td>\n",
       "      <td>1</td>\n",
       "      <td>7,67</td>\n",
       "      <td>720</td>\n",
       "    </tr>\n",
       "    <tr>\n",
       "      <th>54305</th>\n",
       "      <td>2</td>\n",
       "      <td>1</td>\n",
       "      <td>1</td>\n",
       "      <td>8,23</td>\n",
       "      <td>765</td>\n",
       "    </tr>\n",
       "    <tr>\n",
       "      <th>54306</th>\n",
       "      <td>2</td>\n",
       "      <td>2</td>\n",
       "      <td>1</td>\n",
       "      <td>6,92</td>\n",
       "      <td>610</td>\n",
       "    </tr>\n",
       "    <tr>\n",
       "      <th>54307</th>\n",
       "      <td>2</td>\n",
       "      <td>1</td>\n",
       "      <td>1</td>\n",
       "      <td>7,75</td>\n",
       "      <td>705</td>\n",
       "    </tr>\n",
       "  </tbody>\n",
       "</table>\n",
       "</div>"
      ],
      "text/plain": [
       "       financiamiento  tp_sexo  tp_area  inev  pes\n",
       "53978               2        2        1  7,31  650\n",
       "54304               2        2        1  7,67  720\n",
       "54305               2        1        1  8,23  765\n",
       "54306               2        2        1  6,92  610\n",
       "54307               2        1        1  7,75  705"
      ]
     },
     "execution_count": 3,
     "metadata": {},
     "output_type": "execute_result"
    }
   ],
   "source": [
    "micro= micro_2\n",
    "\n",
    "# Milagro -> 910\n",
    "# Guayaquil -> 901\n",
    "micro_milagro = micro[micro[\"id_cant\"] == 910]\n",
    "\n",
    "columns_to_drop = ['ciclo', 'amie', 'nm_regi', 'es_regeva', 'id_zona', 'id_dist', 'id_circ', 'id_prov', 'id_cant', 'id_parr']\n",
    "micro_milagro.drop(columns_to_drop, axis=1, inplace=True)\n",
    "\n",
    "to_drop = [\"tp_sost\", \"na_eano\", \"etnibbe\", 'discapacidad', 'quintil', 'poblacion', 'estado', \"deshonestidad\", \n",
    "            \"isec\", \"nl_imat\", \"nl_ilyl\", \"nl_icn\", \"nl_ies\", \"nl_inev\", \"imat\", \"ilyl\", \"icn\", \"ies\"] # \"inev\", \"pes\", \"imat\", \"ilyl\", \"icn\", \"ies\", \n",
    "micro_milagro.drop(to_drop, axis=1, inplace=True)\n",
    "micro_milagro.head()"
   ]
  },
  {
   "cell_type": "code",
   "execution_count": 4,
   "metadata": {},
   "outputs": [
    {
     "name": "stdout",
     "output_type": "stream",
     "text": [
      "<class 'pandas.core.frame.DataFrame'>\n",
      "Index: 4909 entries, 53978 to 272030\n",
      "Data columns (total 5 columns):\n",
      " #   Column          Non-Null Count  Dtype \n",
      "---  ------          --------------  ----- \n",
      " 0   financiamiento  4909 non-null   int64 \n",
      " 1   tp_sexo         4909 non-null   int64 \n",
      " 2   tp_area         4909 non-null   int64 \n",
      " 3   inev            4909 non-null   object\n",
      " 4   pes             4909 non-null   int64 \n",
      "dtypes: int64(4), object(1)\n",
      "memory usage: 230.1+ KB\n"
     ]
    }
   ],
   "source": [
    "micro_milagro.info()"
   ]
  },
  {
   "cell_type": "markdown",
   "metadata": {},
   "source": [
    "# Conversiones de tipos de datos"
   ]
  },
  {
   "cell_type": "code",
   "execution_count": 5,
   "metadata": {},
   "outputs": [
    {
     "name": "stdout",
     "output_type": "stream",
     "text": [
      "Unique values of financiamiento:\n",
      "['Privado' 'Publico' nan]\n",
      "\n",
      "Unique values of tp_sexo:\n",
      "['Hombre' 'Mujer']\n",
      "\n",
      "Unique values of tp_area:\n",
      "['Rural' 'Urbana']\n",
      "\n",
      "Unique values of inev:\n",
      "[ 7.31  7.67  8.23  6.92  7.75  7.58  7.42  7.27  6.9   6.3   7.05  8.29\n",
      "  8.51  6.67  7.5   7.72  6.68  8.99  6.65  7.17  7.46  6.98  6.62  7.69\n",
      "  6.51  7.06  6.91  6.85  7.    6.6   7.4   6.66  6.56  6.47  6.64  6.71\n",
      "  6.84  7.26  7.33  6.88  7.38  7.66  6.72  7.57  7.2   6.75  7.16  6.93\n",
      "  7.14  7.62  6.55  8.14  6.99  7.18  6.53  6.57  7.68  6.31  7.32  7.85\n",
      "  7.64  7.39  7.11  6.49  6.54  5.86  7.47  7.53  7.37  6.97  7.07  7.44\n",
      "  8.27  8.31  7.09  7.1   6.82  7.54  6.76  7.08  7.28  6.77  7.63  7.88\n",
      "  7.77  7.03  7.34  7.78  6.81  7.24  7.04  7.36  7.74  7.41  7.22  7.19\n",
      "  6.96  6.94  6.2   6.74  7.51  6.52  5.63  6.46  8.11  6.83  7.01  8.09\n",
      "  6.95  7.73  6.78  6.26  7.96  7.52  8.06  9.11  8.01  7.55  8.75  7.71\n",
      "  8.34  8.19  7.98  9.28  7.95  8.3   9.77  8.2   8.26  8.02  9.73  8.53\n",
      "  8.18  9.35  9.78  8.55  8.4   8.62  7.6   8.41  9.76  9.75  8.03  9.36\n",
      "  9.7   9.15  8.36  9.02  8.12  7.93  6.69  7.83  7.13  6.79  7.25  6.45\n",
      "  6.42  7.49  6.8   8.48  7.86  8.15  7.3   7.29  8.86  7.87  8.98  6.87\n",
      "  8.05  6.15  6.37  7.81  7.94  7.02  7.65  8.82  8.83  6.22  7.12  6.58\n",
      "  8.92  9.38  6.61  7.15  6.86  8.38  8.13  7.92  8.84  8.08  7.56  6.89\n",
      "  6.28  6.18  6.13  7.59  6.7   9.13  7.35  7.97  6.73  7.23  9.18  8.85\n",
      "  8.95  6.41  7.79  6.05  6.04  6.44  6.06  8.16  7.61  6.5   7.82  8.56\n",
      "   nan  8.79  7.21  6.33  9.89  7.43  9.69  9.68  9.67  6.48  9.72  9.61\n",
      "  7.84  9.91  6.36  8.63  8.46  7.8   6.19  8.91  7.7   5.88  5.92  6.38\n",
      "  6.12  6.34  5.93  7.48  8.04  9.31  9.1   8.17  6.59  9.63  8.67  9.62\n",
      "  8.7   9.33  8.    8.21  9.51  8.5   8.61  8.96  6.29  6.14  8.78  9.66\n",
      "  9.42  6.21  9.87  6.63  9.06  8.28  6.16  7.76  7.9   8.33  9.01  8.93\n",
      "  8.64  9.9   7.91  9.5   9.88  8.1   8.25  6.09  8.47  7.89  9.22  6.32\n",
      "  8.76  8.49  8.68  9.17  9.54  8.57  8.32  8.22  7.45  6.35  9.59  9.16\n",
      "  9.97  9.92  9.84  9.71  8.45  9.82  9.94  9.55  9.14  9.58  9.46  8.73\n",
      "  9.74  9.24  5.99  6.4   6.02  5.84  8.72  6.23  8.07  9.45  8.24  9.3\n",
      "  9.48  9.86  8.97  8.77  9.05  9.96  9.21  9.09  8.69  9.25  9.03  8.35\n",
      "  6.43  5.96  9.57  9.    9.37  5.78  9.04  7.99  8.66  9.52  9.83  9.79\n",
      "  6.39  6.17  5.85  9.19  6.24  6.25  8.81  9.47  8.37  8.65  8.71  8.87\n",
      "  9.49  8.43  9.27  6.03  8.58  9.26  9.44  8.52  9.07  6.07  8.39  8.74\n",
      "  8.8   8.9   8.44  9.12  8.54  8.59  8.6   9.93 10.    9.39  9.32  9.29\n",
      "  9.41  9.65  5.98  6.1   5.89  9.23  9.85  6.    8.42  9.56  6.27  6.08\n",
      "  6.11  8.88  8.94  9.8   9.95  9.64]\n",
      "\n",
      "Unique values of pes:\n",
      "[ 650.  720.  765.  610.  705.  680.  670.  665.  605.  575.  615.  780.\n",
      "  815.  585.  695.  590.  865.  580.  640.  560.  625.  655.  645.  595.\n",
      "  660.  600.  555.  685.  735.  710.  630.  635.  525.  675.  760.  775.\n",
      "  620.  690.  565.  570.  515.  745.  700.  550.  740.  870.  730.  725.\n",
      "  825.  715.  750.  900.  755.  965.  800.  920.  970.  795.  770.  910.\n",
      "  960.  885.  785.  875.  790.  845.  850.  535.  586.  830.  545.  835.\n",
      "  840.  805.  880.  895.  855.  540.  530.  810.   nan  980.  955.  950.\n",
      "  985.  905.  945.  890.  820.  930.  860.  935.  940.  995.  990.  975.\n",
      "  925.  915.  520. 1000.  480.  410.]\n",
      "\n"
     ]
    },
    {
     "name": "stderr",
     "output_type": "stream",
     "text": [
      "C:\\Users\\HOME\\AppData\\Local\\Temp\\ipykernel_10020\\1111691941.py:3: SettingWithCopyWarning: \n",
      "A value is trying to be set on a copy of a slice from a DataFrame.\n",
      "Try using .loc[row_indexer,col_indexer] = value instead\n",
      "\n",
      "See the caveats in the documentation: https://pandas.pydata.org/pandas-docs/stable/user_guide/indexing.html#returning-a-view-versus-a-copy\n",
      "  micro_milagro['financiamiento'] = micro_milagro['financiamiento'].replace({\n",
      "C:\\Users\\HOME\\AppData\\Local\\Temp\\ipykernel_10020\\1111691941.py:10: SettingWithCopyWarning: \n",
      "A value is trying to be set on a copy of a slice from a DataFrame.\n",
      "Try using .loc[row_indexer,col_indexer] = value instead\n",
      "\n",
      "See the caveats in the documentation: https://pandas.pydata.org/pandas-docs/stable/user_guide/indexing.html#returning-a-view-versus-a-copy\n",
      "  micro_milagro['tp_sexo'] = micro_milagro['tp_sexo'].replace({\n",
      "C:\\Users\\HOME\\AppData\\Local\\Temp\\ipykernel_10020\\1111691941.py:16: SettingWithCopyWarning: \n",
      "A value is trying to be set on a copy of a slice from a DataFrame.\n",
      "Try using .loc[row_indexer,col_indexer] = value instead\n",
      "\n",
      "See the caveats in the documentation: https://pandas.pydata.org/pandas-docs/stable/user_guide/indexing.html#returning-a-view-versus-a-copy\n",
      "  micro_milagro['tp_area'] = micro_milagro['tp_area'].replace({\n",
      "C:\\Users\\HOME\\AppData\\Local\\Temp\\ipykernel_10020\\1111691941.py:23: SettingWithCopyWarning: \n",
      "A value is trying to be set on a copy of a slice from a DataFrame.\n",
      "Try using .loc[row_indexer,col_indexer] = value instead\n",
      "\n",
      "See the caveats in the documentation: https://pandas.pydata.org/pandas-docs/stable/user_guide/indexing.html#returning-a-view-versus-a-copy\n",
      "  micro_milagro['inev'] = micro_milagro['inev'].replace(',', '.', regex=True)\n",
      "C:\\Users\\HOME\\AppData\\Local\\Temp\\ipykernel_10020\\1111691941.py:24: SettingWithCopyWarning: \n",
      "A value is trying to be set on a copy of a slice from a DataFrame.\n",
      "Try using .loc[row_indexer,col_indexer] = value instead\n",
      "\n",
      "See the caveats in the documentation: https://pandas.pydata.org/pandas-docs/stable/user_guide/indexing.html#returning-a-view-versus-a-copy\n",
      "  micro_milagro['inev'] = micro_milagro['inev'].replace('999999', np.nan, regex=True).astype('double')\n",
      "C:\\Users\\HOME\\AppData\\Local\\Temp\\ipykernel_10020\\1111691941.py:25: SettingWithCopyWarning: \n",
      "A value is trying to be set on a copy of a slice from a DataFrame.\n",
      "Try using .loc[row_indexer,col_indexer] = value instead\n",
      "\n",
      "See the caveats in the documentation: https://pandas.pydata.org/pandas-docs/stable/user_guide/indexing.html#returning-a-view-versus-a-copy\n",
      "  micro_milagro['inev'] = micro_milagro['inev'].replace({999999:np.nan})\n",
      "C:\\Users\\HOME\\AppData\\Local\\Temp\\ipykernel_10020\\1111691941.py:27: SettingWithCopyWarning: \n",
      "A value is trying to be set on a copy of a slice from a DataFrame.\n",
      "Try using .loc[row_indexer,col_indexer] = value instead\n",
      "\n",
      "See the caveats in the documentation: https://pandas.pydata.org/pandas-docs/stable/user_guide/indexing.html#returning-a-view-versus-a-copy\n",
      "  micro_milagro['pes'] = micro_milagro['pes'].replace({999999:np.nan})\n"
     ]
    }
   ],
   "source": [
    "variables = ['financiamiento', 'tp_sexo', 'tp_area', 'inev', 'pes']\n",
    "\n",
    "micro_milagro['financiamiento'] = micro_milagro['financiamiento'].replace({\n",
    "    1: 'Publico', \n",
    "    2: 'Privado', \n",
    "    3: 'Mixto', \n",
    "    999999:np.nan\n",
    "    })\n",
    "\n",
    "micro_milagro['tp_sexo'] = micro_milagro['tp_sexo'].replace({\n",
    "    1: 'Mujer', \n",
    "    2: 'Hombre', \n",
    "    999999:np.nan\n",
    "    })\n",
    "\n",
    "micro_milagro['tp_area'] = micro_milagro['tp_area'].replace({\n",
    "    1: 'Rural', \n",
    "    2: 'Urbana', \n",
    "    98: 'Exterior',\n",
    "    999999:np.nan\n",
    "    })\n",
    "\n",
    "micro_milagro['inev'] = micro_milagro['inev'].replace(',', '.', regex=True)\n",
    "micro_milagro['inev'] = micro_milagro['inev'].replace('999999', np.nan, regex=True).astype('double')\n",
    "micro_milagro['inev'] = micro_milagro['inev'].replace({999999:np.nan})\n",
    "\n",
    "micro_milagro['pes'] = micro_milagro['pes'].replace({999999:np.nan})\n",
    "'''\n",
    "micro_milagro['imat'] = micro_milagro['imat'].replace(',', '.', regex=True)\n",
    "micro_milagro['imat'] = micro_milagro['imat'].replace('999999', np.nan, regex=True).astype('double')\n",
    "micro_milagro['imat'] = micro_milagro['imat'].replace({999999:np.nan})\n",
    "\n",
    "micro_milagro['ilyl'] = micro_milagro['ilyl'].replace(',', '.', regex=True)\n",
    "micro_milagro['ilyl'] = micro_milagro['ilyl'].replace('999999', np.nan, regex=True).astype('double')\n",
    "micro_milagro['ilyl'] = micro_milagro['ilyl'].replace({999999:np.nan})\n",
    "\n",
    "micro_milagro['icn'] = micro_milagro['icn'].replace(',', '.', regex=True)\n",
    "micro_milagro['icn'] = micro_milagro['icn'].replace('999999', np.nan, regex=True).astype('double')\n",
    "micro_milagro['icn'] = micro_milagro['icn'].replace({999999:np.nan})\n",
    "\n",
    "micro_milagro['ies'] = micro_milagro['ies'].replace(',', '.', regex=True)\n",
    "micro_milagro['ies'] = micro_milagro['ies'].replace('999999', np.nan, regex=True).astype('double')\n",
    "micro_milagro['ies'] = micro_milagro['ies'].replace({999999:np.nan})\n",
    "'''\n",
    "for variable in variables:\n",
    "    print(f\"Unique values of {variable}:\")\n",
    "    print(micro_milagro[variable].unique())\n",
    "    print()"
   ]
  },
  {
   "cell_type": "code",
   "execution_count": 6,
   "metadata": {},
   "outputs": [
    {
     "name": "stdout",
     "output_type": "stream",
     "text": [
      "<class 'pandas.core.frame.DataFrame'>\n",
      "Index: 4909 entries, 53978 to 272030\n",
      "Data columns (total 5 columns):\n",
      " #   Column          Non-Null Count  Dtype  \n",
      "---  ------          --------------  -----  \n",
      " 0   financiamiento  3559 non-null   object \n",
      " 1   tp_sexo         4909 non-null   object \n",
      " 2   tp_area         4909 non-null   object \n",
      " 3   inev            3549 non-null   float64\n",
      " 4   pes             4746 non-null   float64\n",
      "dtypes: float64(2), object(3)\n",
      "memory usage: 230.1+ KB\n"
     ]
    }
   ],
   "source": [
    "micro_milagro.info()"
   ]
  },
  {
   "cell_type": "code",
   "execution_count": 7,
   "metadata": {},
   "outputs": [
    {
     "name": "stdout",
     "output_type": "stream",
     "text": [
      "<class 'pandas.core.frame.DataFrame'>\n",
      "Index: 3549 entries, 53978 to 209802\n",
      "Data columns (total 5 columns):\n",
      " #   Column          Non-Null Count  Dtype  \n",
      "---  ------          --------------  -----  \n",
      " 0   financiamiento  3549 non-null   object \n",
      " 1   tp_sexo         3549 non-null   object \n",
      " 2   tp_area         3549 non-null   object \n",
      " 3   inev            3549 non-null   float64\n",
      " 4   pes             3549 non-null   float64\n",
      "dtypes: float64(2), object(3)\n",
      "memory usage: 166.4+ KB\n"
     ]
    }
   ],
   "source": [
    "# Eliminar filas con valores nulos\n",
    "micro_milagro = micro_milagro.dropna()\n",
    "\n",
    "micro_milagro.info()\n",
    "\n"
   ]
  },
  {
   "cell_type": "code",
   "execution_count": 8,
   "metadata": {},
   "outputs": [
    {
     "data": {
      "text/html": [
       "<div>\n",
       "<style scoped>\n",
       "    .dataframe tbody tr th:only-of-type {\n",
       "        vertical-align: middle;\n",
       "    }\n",
       "\n",
       "    .dataframe tbody tr th {\n",
       "        vertical-align: top;\n",
       "    }\n",
       "\n",
       "    .dataframe thead th {\n",
       "        text-align: right;\n",
       "    }\n",
       "</style>\n",
       "<table border=\"1\" class=\"dataframe\">\n",
       "  <thead>\n",
       "    <tr style=\"text-align: right;\">\n",
       "      <th></th>\n",
       "      <th>inev</th>\n",
       "      <th>pes</th>\n",
       "    </tr>\n",
       "  </thead>\n",
       "  <tbody>\n",
       "    <tr>\n",
       "      <th>count</th>\n",
       "      <td>3549.000000</td>\n",
       "      <td>3549.000000</td>\n",
       "    </tr>\n",
       "    <tr>\n",
       "      <th>mean</th>\n",
       "      <td>7.466534</td>\n",
       "      <td>674.077487</td>\n",
       "    </tr>\n",
       "    <tr>\n",
       "      <th>std</th>\n",
       "      <td>0.809970</td>\n",
       "      <td>96.555496</td>\n",
       "    </tr>\n",
       "    <tr>\n",
       "      <th>min</th>\n",
       "      <td>5.630000</td>\n",
       "      <td>515.000000</td>\n",
       "    </tr>\n",
       "    <tr>\n",
       "      <th>25%</th>\n",
       "      <td>6.920000</td>\n",
       "      <td>610.000000</td>\n",
       "    </tr>\n",
       "    <tr>\n",
       "      <th>50%</th>\n",
       "      <td>7.300000</td>\n",
       "      <td>645.000000</td>\n",
       "    </tr>\n",
       "    <tr>\n",
       "      <th>75%</th>\n",
       "      <td>7.790000</td>\n",
       "      <td>705.000000</td>\n",
       "    </tr>\n",
       "    <tr>\n",
       "      <th>max</th>\n",
       "      <td>10.000000</td>\n",
       "      <td>1000.000000</td>\n",
       "    </tr>\n",
       "  </tbody>\n",
       "</table>\n",
       "</div>"
      ],
      "text/plain": [
       "              inev          pes\n",
       "count  3549.000000  3549.000000\n",
       "mean      7.466534   674.077487\n",
       "std       0.809970    96.555496\n",
       "min       5.630000   515.000000\n",
       "25%       6.920000   610.000000\n",
       "50%       7.300000   645.000000\n",
       "75%       7.790000   705.000000\n",
       "max      10.000000  1000.000000"
      ]
     },
     "execution_count": 8,
     "metadata": {},
     "output_type": "execute_result"
    }
   ],
   "source": [
    "micro_milagro.describe()"
   ]
  },
  {
   "cell_type": "code",
   "execution_count": 9,
   "metadata": {},
   "outputs": [
    {
     "data": {
      "image/png": "[encoded data removed]",
      "text/plain": [
       "<Figure size 1000x600 with 1 Axes>"
      ]
     },
     "metadata": {},
     "output_type": "display_data"
    },
    {
     "data": {
      "image/png": "[encoded data removed]",
      "text/plain": [
       "<Figure size 1000x600 with 1 Axes>"
      ]
     },
     "metadata": {},
     "output_type": "display_data"
    },
    {
     "data": {
      "image/png": "[encoded data removed]",
      "text/plain": [
       "<Figure size 1000x600 with 1 Axes>"
      ]
     },
     "metadata": {},
     "output_type": "display_data"
    }
   ],
   "source": [
    "# Obtener las columnas de tipo object\n",
    "object_columns = micro_milagro.select_dtypes(include='object').columns\n",
    "\n",
    "for column in object_columns:\n",
    "    plt.figure(figsize=(10, 6))\n",
    "    sns.barplot(x=micro_milagro[column].value_counts().index, y=micro_milagro[column].value_counts().values)\n",
    "    plt.title(f'Diagrama de barras de {column}')\n",
    "    plt.xlabel(column)\n",
    "    plt.ylabel('Frequency')\n",
    "    plt.xticks(rotation=45)\n",
    "    for i, v in enumerate(micro_milagro[column].value_counts().values):\n",
    "        plt.text(i, v, str(v), ha='center', va='bottom')\n",
    "    plt.show()\n"
   ]
  },
  {
   "cell_type": "code",
   "execution_count": 10,
   "metadata": {},
   "outputs": [
    {
     "data": {
      "image/png": "[encoded data removed]",
      "text/plain": [
       "<Figure size 2200x200 with 1 Axes>"
      ]
     },
     "metadata": {},
     "output_type": "display_data"
    },
    {
     "data": {
      "image/png": "[encoded data removed]",
      "text/plain": [
       "<Figure size 2200x200 with 1 Axes>"
      ]
     },
     "metadata": {},
     "output_type": "display_data"
    }
   ],
   "source": [
    "def boxplot(value):\n",
    "    data = micro_milagro.columns\n",
    "    column_data = micro_milagro[data[value]]\n",
    "    if column_data.dtype in [np.int64, np.float64]:\n",
    "        sns.set_style('whitegrid')\n",
    "        fig, ax = plt.subplots(1, 1, figsize=(22, 2))\n",
    "        sns.boxplot(x=column_data, color='#6E75CA', ax=ax)\n",
    "        \n",
    "        # Calculate and draw the mean\n",
    "        mean = column_data.mean()\n",
    "        ax.axvline(mean, color='#30db78', linestyle='--')\n",
    "        #ax.text(mean, 0.75, 'Mean: {:.2f}'.format(mean), va='center', ha='center', backgroundcolor='w')\n",
    "        \n",
    "        # Calculate and draw the median\n",
    "        median = column_data.median()\n",
    "        ax.axvline(median, color='#c4db30', linestyle='-')\n",
    "        #ax.text(median, 0.85, 'Median: {:.2f}'.format(median), va='center', ha='center', backgroundcolor='w')\n",
    "        \n",
    "        plt.title('Distribución de valores la variable '+data[value])\n",
    "        plt.xlabel(data[value])     \n",
    "        plt.show()\n",
    "        fig.tight_layout()\n",
    "         \n",
    "\n",
    "dataTypes=micro_milagro.dtypes\n",
    "for i in range(dataTypes.size):\n",
    "    boxplot(i)"
   ]
  },
  {
   "cell_type": "code",
   "execution_count": 11,
   "metadata": {},
   "outputs": [
    {
     "data": {
      "text/plain": [
       "Index(['financiamiento', 'tp_sexo', 'tp_area', 'inev', 'pes'], dtype='object')"
      ]
     },
     "execution_count": 11,
     "metadata": {},
     "output_type": "execute_result"
    }
   ],
   "source": [
    "micro_milagro.columns"
   ]
  },
  {
   "cell_type": "markdown",
   "metadata": {},
   "source": [
    "# Análisis inferencial\n",
    "\n",
    "## Prueba hipotesis: media de la nota de examen de grado del cantón Milagro (inev)\n",
    "\n",
    "H0 = La media de la nota de examen de grado del cantón Milagro es igual a 7\n",
    "\n",
    "H1 = La media de la nota de examen de grado del cantón Milagro es mayor a 7\n",
    "\n",
    "Supuestos: Normalidad, n es grande, varianza desconocida\n"
   ]
  },
  {
   "cell_type": "code",
   "execution_count": 12,
   "metadata": {},
   "outputs": [
    {
     "name": "stdout",
     "output_type": "stream",
     "text": [
      "Estadístico t: 34.3136865088293\n",
      "Valor p (una cola): 2.1848527321921634e-223\n",
      "Rechazamos la hipótesis nula.\n"
     ]
    }
   ],
   "source": [
    "# Nivel de significancia\n",
    "nivel_significancia = 0.05\n",
    "\n",
    "# Hipótesis nula: La media de la nota de examen de grado del cantón Milagro es igual a 7\n",
    "# Hipótesis alternativa: La media de la nota de examen de grado del cantón Milagro es mayor a 7\n",
    "\n",
    "# Realizamos la prueba t de Student para una muestra con la hipótesis de una cola\n",
    "nota_grado = micro_milagro['inev'].tolist()\n",
    "\n",
    "t_stat, p_valor = stats.ttest_1samp(nota_grado, 7)\n",
    "\n",
    "# Imprimimos los resultados\n",
    "print(\"Estadístico t:\", t_stat)\n",
    "print(\"Valor p (una cola):\", p_valor / 2)  # Dividimos el valor p por 2 porque es una prueba de una cola\n",
    "\n",
    "# Interpretación del resultado\n",
    "if p_valor / 2 < nivel_significancia and t_stat > 0:  # Verificamos si el valor p ajustado y el estadístico t son adecuados\n",
    "    print(\"Rechazamos la hipótesis nula.\")\n",
    "else:\n",
    "    print(\"No podemos rechazar la hipótesis nula\")"
   ]
  },
  {
   "cell_type": "markdown",
   "metadata": {},
   "source": [
    "## Prueba hipotesis: proporción del tipo de financiamiento de la institución educativa\n",
    "\n",
    "H0 = La proporción de instituciones educativas privadas es igual a 0.017\n",
    "\n",
    "H1 = La proporción de instituciones educativas privadas es menor a 0.017\n",
    "\n",
    "Supuestos: Normalidad, n es grande"
   ]
  },
  {
   "cell_type": "code",
   "execution_count": 13,
   "metadata": {},
   "outputs": [
    {
     "name": "stdout",
     "output_type": "stream",
     "text": [
      "3549\n"
     ]
    },
    {
     "data": {
      "text/plain": [
       "financiamiento\n",
       "Publico    3119\n",
       "Privado     430\n",
       "Name: count, dtype: int64"
      ]
     },
     "execution_count": 13,
     "metadata": {},
     "output_type": "execute_result"
    }
   ],
   "source": [
    "privado = micro_milagro[micro_milagro['financiamiento'] == 'Privado'][\"financiamiento\"]\n",
    "publico = micro_milagro[micro_milagro['financiamiento'] == 'Publico'][\"financiamiento\"]\n",
    "print(micro_milagro['financiamiento'].count())\n",
    "micro_milagro['financiamiento'].value_counts()"
   ]
  },
  {
   "cell_type": "code",
   "execution_count": 14,
   "metadata": {},
   "outputs": [],
   "source": [
    "privadas = privado.count()  # Número de instituciones privadas\n",
    "total_instituciones = micro_milagro['financiamiento'].count()   # Tamaño de la población total"
   ]
  },
  {
   "cell_type": "code",
   "execution_count": 15,
   "metadata": {},
   "outputs": [
    {
     "name": "stdout",
     "output_type": "stream",
     "text": [
      "Estadístico Z: 19.016113792327033\n",
      "Valor p: 1.0\n",
      "No podemos rechazar la hipótesis nula\n"
     ]
    }
   ],
   "source": [
    "# Nivel de significancia\n",
    "nivel_significancia = 0.05\n",
    "\n",
    "# Prueba de proporciones z\n",
    "count = privadas\n",
    "nobs = total_instituciones\n",
    "\n",
    "# Realizar la prueba de proporciones z\n",
    "z_stat, p_valor = proportions_ztest(count, nobs=nobs, value=0.017, alternative='smaller')\n",
    "\n",
    "# Imprimir resultados\n",
    "print(\"Estadístico Z:\", z_stat)\n",
    "print(\"Valor p:\", p_valor)\n",
    "\n",
    "# Interpretación del resultado\n",
    "if p_valor < nivel_significancia:\n",
    "    print(\"Rechazamos la hipótesis nula\")\n",
    "else:\n",
    "    print(\"No podemos rechazar la hipótesis nula\")"
   ]
  },
  {
   "cell_type": "markdown",
   "metadata": {},
   "source": [
    "H0 = La proporción de instituciones educativas publicas es igual a 0.7\n",
    "\n",
    "H1 = La proporción de instituciones educativas publicas es mayor a 0.7\n",
    "\n",
    "Supuestos: Normalidad, n es grande"
   ]
  },
  {
   "cell_type": "code",
   "execution_count": 16,
   "metadata": {},
   "outputs": [
    {
     "name": "stdout",
     "output_type": "stream",
     "text": [
      "Estadístico z: 32.64972914539292\n",
      "Valor p (una cola): 4.0422203858954685e-234\n",
      "Rechazamos la hipótesis nula\n"
     ]
    }
   ],
   "source": [
    "publicas = publico.count()  # Número de instituciones privadas\n",
    "\n",
    "# Nivel de significancia\n",
    "nivel_significancia = 0.05\n",
    "\n",
    "# Valor específico para la proporción bajo la hipótesis nula\n",
    "prop_value = 0.7\n",
    "\n",
    "# Realizar la prueba de proporciones z\n",
    "z_stat, p_valor = proportions_ztest(count=publicas, nobs=total_instituciones, value=prop_value, alternative='larger')\n",
    "\n",
    "# Imprimir los resultados\n",
    "print(\"Estadístico z:\", z_stat)\n",
    "print(\"Valor p (una cola):\", p_valor)\n",
    "\n",
    "# Interpretación del resultado\n",
    "if p_valor < nivel_significancia:\n",
    "    print(\"Rechazamos la hipótesis nula\")\n",
    "else:\n",
    "    print(\"No podemos rechazar la hipótesis nula\")\n"
   ]
  },
  {
   "cell_type": "markdown",
   "metadata": {},
   "source": [
    "H0 = La proporción de estudiantes que obtuvieron una nota parcial para postular a una Educación Superior mayor a 800 es del 0.5\n",
    "\n",
    "H1 = La proporción de estudiantes que obtuvieron una nota parcial para postular a una Educación Superior mayor a 800 es mayor a 0.5\n",
    "\n",
    "Supuestos: Normalidad, n es grande"
   ]
  },
  {
   "cell_type": "code",
   "execution_count": 17,
   "metadata": {},
   "outputs": [
    {
     "name": "stdout",
     "output_type": "stream",
     "text": [
      "Estadístico z: -45.87611492422825\n",
      "Valor p (una cola): 1.0\n",
      "No podemos rechazar la hipótesis nula\n"
     ]
    }
   ],
   "source": [
    "# Número de estudiantes con notas mayores a 800\n",
    "notas_mayores = micro_milagro.loc[micro_milagro['pes'] >= 800, 'pes'].count()\n",
    "\n",
    "# Número total de estudiantes\n",
    "total_estudiantes = micro_milagro['pes'].count()\n",
    "\n",
    "# Proporción bajo la hipótesis nula\n",
    "prop_hipotesis_nula = 0.5\n",
    "\n",
    "# Proporción observada\n",
    "prop_observada = notas_mayores / total_estudiantes\n",
    "\n",
    "# Estadístico z\n",
    "z_stat = (prop_observada - prop_hipotesis_nula) / ((prop_hipotesis_nula * (1 - prop_hipotesis_nula)) / total_estudiantes) ** 0.5\n",
    "\n",
    "# Valor p (una cola)\n",
    "p_valor = 1 - stats.norm.cdf(z_stat)\n",
    "\n",
    "print(\"Estadístico z:\", z_stat)\n",
    "print(\"Valor p (una cola):\", p_valor)\n",
    "\n",
    "# Interpretación del resultado\n",
    "nivel_significancia = 0.05\n",
    "if p_valor < nivel_significancia:\n",
    "    print(\"Rechazamos la hipótesis nula.\")\n",
    "else:\n",
    "    print(\"No podemos rechazar la hipótesis nula\")"
   ]
  },
  {
   "cell_type": "code",
   "execution_count": 18,
   "metadata": {},
   "outputs": [
    {
     "name": "stdout",
     "output_type": "stream",
     "text": [
      "408\n",
      "3549\n"
     ]
    }
   ],
   "source": [
    "print(notas_mayores)\n",
    "print(total_estudiantes)"
   ]
  },
  {
   "cell_type": "markdown",
   "metadata": {},
   "source": [
    "## Prueba hipotesis: diferencia de medias de la nota de examen de grado entre hombres y mujeres\n",
    "\n",
    "H0 = La media de la nota de examen de grado de hombres es igual a la de mujeres\n",
    "\n",
    "H1 = La media de la nota de examen de grado de hombres es diferente a la de mujeres\n",
    "\n",
    "Supuestos: X1,X2 población normal e independientes 𝜎12,𝜎22 desconocido n1,n2 grande"
   ]
  },
  {
   "cell_type": "code",
   "execution_count": 19,
   "metadata": {},
   "outputs": [
    {
     "name": "stdout",
     "output_type": "stream",
     "text": [
      "1691\n",
      "1858\n"
     ]
    }
   ],
   "source": [
    "hombres_inev = micro_milagro[micro_milagro['tp_sexo'] == 'Hombre']['inev'].tolist()\n",
    "mujeres_inev = micro_milagro[micro_milagro['tp_sexo'] == 'Mujer']['inev'].tolist()\n",
    "print(len(hombres_inev))\n",
    "print(len(mujeres_inev))"
   ]
  },
  {
   "cell_type": "code",
   "execution_count": 20,
   "metadata": {},
   "outputs": [
    {
     "name": "stdout",
     "output_type": "stream",
     "text": [
      "Estadístico t: -0.8675469846626063\n",
      "Valor p: 0.3857021496993278\n",
      "No podemos rechazar la hipótesis nula\n"
     ]
    }
   ],
   "source": [
    "# Nivel de significancia\n",
    "nivel_significancia = 0.05\n",
    "\n",
    "# Realizamos la prueba t de Student para muestras independientes\n",
    "t_stat, p_valor = stats.ttest_ind(hombres_inev, mujeres_inev, equal_var=False)\n",
    "\n",
    "# Imprimimos los resultados\n",
    "print(\"Estadístico t:\", t_stat)\n",
    "print(\"Valor p:\", p_valor)\n",
    "\n",
    "# Interpretación del resultado\n",
    "if p_valor < nivel_significancia:\n",
    "    print(\"Rechazamos la hipótesis nula\")\n",
    "else:\n",
    "    print(\"No podemos rechazar la hipótesis nula\")"
   ]
  },
  {
   "cell_type": "markdown",
   "metadata": {},
   "source": [
    "## Prueba hipotesis: diferencia de varianzas de la nota de examen de grado entre hombres y mujeres\n",
    "\n",
    "H0 = La varianza de la nota de examen de grado de hombres es igual a la de mujeres\n",
    "\n",
    "H1 = La varianza de la nota de examen de grado de hombres es diferente a la de mujeres\n",
    "\n",
    "Supuestos: X1,X2 población normal e independientes 𝜎12,𝜎22 desconocido n1,n2 grande"
   ]
  },
  {
   "cell_type": "code",
   "execution_count": 21,
   "metadata": {},
   "outputs": [
    {
     "name": "stdout",
     "output_type": "stream",
     "text": [
      "Estadístico F: 3.084585083576328\n",
      "Valor p: 0.07903742108984371\n",
      "No podemos rechazar la hipótesis nula\n"
     ]
    }
   ],
   "source": [
    "from scipy.stats import bartlett\n",
    "\n",
    "# Realiza la prueba de Bartlett para homogeneidad de varianzas\n",
    "statistic, p_value = bartlett(hombres_inev, mujeres_inev)\n",
    "\n",
    "# Imprime los resultados\n",
    "print(\"Estadístico F:\", statistic)\n",
    "print(\"Valor p:\", p_value)\n",
    "\n",
    "# Interpretación del resultado\n",
    "if p_value < 0.05:\n",
    "    print(\"Rechazamos la hipótesis nula\")\n",
    "else:\n",
    "    print(\"No podemos rechazar la hipótesis nula\")\n"
   ]
  },
  {
   "cell_type": "markdown",
   "metadata": {},
   "source": [
    "## Prueba hipotesis: independencia entre el tipo de financiamiento de la institución educativa y el área de asentamiento de la institución educativa\n",
    "\n",
    "H0 = El tipo de financiamiento y el área de asentamiento de la institución educativa son independientes\n",
    "\n",
    "H1 = El tipo de financiamiento y el área de asentamiento de la institución educativa no son independientes\n",
    "\n",
    "Supuestos: Normalidad, n es grande"
   ]
  },
  {
   "cell_type": "code",
   "execution_count": 22,
   "metadata": {},
   "outputs": [
    {
     "name": "stdout",
     "output_type": "stream",
     "text": [
      "Estadístico de chi-cuadrado: 5.586300728922614\n",
      "Valor p: 0.018101485392690256\n",
      "Grados de libertad: 1\n",
      "Frecuencias esperadas:\n",
      "[[  42.16398986  387.83601014]\n",
      " [ 305.83601014 2813.16398986]]\n",
      "Rechazamos la hipótesis nula\n"
     ]
    },
    {
     "data": {
      "text/html": [
       "<div>\n",
       "<style scoped>\n",
       "    .dataframe tbody tr th:only-of-type {\n",
       "        vertical-align: middle;\n",
       "    }\n",
       "\n",
       "    .dataframe tbody tr th {\n",
       "        vertical-align: top;\n",
       "    }\n",
       "\n",
       "    .dataframe thead th {\n",
       "        text-align: right;\n",
       "    }\n",
       "</style>\n",
       "<table border=\"1\" class=\"dataframe\">\n",
       "  <thead>\n",
       "    <tr style=\"text-align: right;\">\n",
       "      <th>tp_area</th>\n",
       "      <th>Rural</th>\n",
       "      <th>Urbana</th>\n",
       "    </tr>\n",
       "    <tr>\n",
       "      <th>financiamiento</th>\n",
       "      <th></th>\n",
       "      <th></th>\n",
       "    </tr>\n",
       "  </thead>\n",
       "  <tbody>\n",
       "    <tr>\n",
       "      <th>Privado</th>\n",
       "      <td>28</td>\n",
       "      <td>402</td>\n",
       "    </tr>\n",
       "    <tr>\n",
       "      <th>Publico</th>\n",
       "      <td>320</td>\n",
       "      <td>2799</td>\n",
       "    </tr>\n",
       "  </tbody>\n",
       "</table>\n",
       "</div>"
      ],
      "text/plain": [
       "tp_area         Rural  Urbana\n",
       "financiamiento               \n",
       "Privado            28     402\n",
       "Publico           320    2799"
      ]
     },
     "execution_count": 22,
     "metadata": {},
     "output_type": "execute_result"
    }
   ],
   "source": [
    "# Crear una tabla de contingencia\n",
    "tabla_contingencia = pd.crosstab(micro_milagro['financiamiento'], micro_milagro['tp_area'])\n",
    "\n",
    "# Realizar la prueba chi-cuadrado de independencia\n",
    "chi2_stat, p_valor, dof, expected = chi2_contingency(tabla_contingencia)\n",
    "\n",
    "# Imprimir los resultados\n",
    "print(\"Estadístico de chi-cuadrado:\", chi2_stat)\n",
    "print(\"Valor p:\", p_valor)\n",
    "print(\"Grados de libertad:\", dof)\n",
    "print(\"Frecuencias esperadas:\")\n",
    "print(expected)\n",
    "\n",
    "# Nivel de significancia\n",
    "nivel_significancia = 0.05\n",
    "\n",
    "# Interpretación del resultado\n",
    "if p_valor < nivel_significancia:\n",
    "    print(\"Rechazamos la hipótesis nula\")\n",
    "else:\n",
    "    print(\"No podemos rechazar la hipótesis nula\")\n",
    "\n",
    "tabla_contingencia"
   ]
  },
  {
   "cell_type": "markdown",
   "metadata": {},
   "source": [
    "# Bondad de ajuste: Distribución binomial en el financiamiento de la institución educativa\n",
    "\n",
    "H0 = La distribución de financiamiento de la institución educativa sigue una distribución binomial\n",
    "\n",
    "H1 = La distribución de financiamiento de la institución educativa no sigue una distribución binomial"
   ]
  },
  {
   "cell_type": "code",
   "execution_count": 23,
   "metadata": {},
   "outputs": [
    {
     "name": "stdout",
     "output_type": "stream",
     "text": [
      "Estadístico de chi-cuadrado: 109.27929089287603\n",
      "Valor p: 1.4095727918629372e-25\n",
      "Se rechaza la hipótesis nula\n",
      "\n",
      "Tabla de Contingencia:\n"
     ]
    },
    {
     "data": {
      "text/html": [
       "<div>\n",
       "<style scoped>\n",
       "    .dataframe tbody tr th:only-of-type {\n",
       "        vertical-align: middle;\n",
       "    }\n",
       "\n",
       "    .dataframe tbody tr th {\n",
       "        vertical-align: top;\n",
       "    }\n",
       "\n",
       "    .dataframe thead th {\n",
       "        text-align: right;\n",
       "    }\n",
       "</style>\n",
       "<table border=\"1\" class=\"dataframe\">\n",
       "  <thead>\n",
       "    <tr style=\"text-align: right;\">\n",
       "      <th></th>\n",
       "      <th>Observado</th>\n",
       "      <th>Esperado</th>\n",
       "    </tr>\n",
       "  </thead>\n",
       "  <tbody>\n",
       "    <tr>\n",
       "      <th>Publico</th>\n",
       "      <td>3119</td>\n",
       "      <td>2874.69</td>\n",
       "    </tr>\n",
       "    <tr>\n",
       "      <th>Privado</th>\n",
       "      <td>430</td>\n",
       "      <td>674.31</td>\n",
       "    </tr>\n",
       "  </tbody>\n",
       "</table>\n",
       "</div>"
      ],
      "text/plain": [
       "         Observado  Esperado\n",
       "Publico       3119   2874.69\n",
       "Privado        430    674.31"
      ]
     },
     "execution_count": 23,
     "metadata": {},
     "output_type": "execute_result"
    }
   ],
   "source": [
    "from scipy.stats import chisquare\n",
    "\n",
    "# Obtener la columna 'financiamiento' y eliminar los valores NaN\n",
    "financiamiento = micro_milagro['financiamiento'].tolist()\n",
    "\n",
    "# Calcular el número total de observaciones\n",
    "n = len(financiamiento)\n",
    "\n",
    "# Contar las frecuencias de cada categoría\n",
    "observed_counts = pd.Series(financiamiento).value_counts()\n",
    "\n",
    "# Definir las probabilidades esperadas para una distribución binomial\n",
    "p = 0.81  # Probabilidad de éxito para una distribución binomial\n",
    "expected_counts = pd.Series({\n",
    "    'Publico': n * p,\n",
    "    'Privado': n * (1 - p)\n",
    "})\n",
    "\n",
    "# Realizar la prueba de chi-cuadrado\n",
    "chi2_stat, p_value = chisquare(observed_counts, f_exp=expected_counts)\n",
    "\n",
    "# Imprimir los resultados\n",
    "print(\"Estadístico de chi-cuadrado:\", chi2_stat)\n",
    "print(\"Valor p:\", p_value)\n",
    "\n",
    "# Crear un DataFrame para la tabla de contingencia\n",
    "contingency_table = pd.DataFrame({\n",
    "    'Observado': observed_counts,\n",
    "    'Esperado': expected_counts\n",
    "})\n",
    "\n",
    "# Nivel de significancia\n",
    "alpha = 0.05\n",
    "\n",
    "# Imprimir la decisión basada en el valor p\n",
    "if p_value < alpha:\n",
    "    print(\"Se rechaza la hipótesis nula\")\n",
    "else:\n",
    "    print(\"No se rechaza la hipótesis nula\")\n",
    "\n",
    "# Imprimir la tabla de contingencia\n",
    "print(\"\\nTabla de Contingencia:\")\n",
    "contingency_table"
   ]
  },
  {
   "cell_type": "markdown",
   "metadata": {},
   "source": [
    "# Regresión lineal\n",
    "\n",
    "x: inev (nota de examen de grado)\n",
    "\n",
    "y: pes (nota parcial para la postulación a la ed. sup.)"
   ]
  },
  {
   "cell_type": "markdown",
   "metadata": {},
   "source": [
    "**Nota: EL MODELO DE REGRESIÓN ESTÁ HECHO EN R**  python le dio amziedak :c"
   ]
  },
  {
   "cell_type": "markdown",
   "metadata": {},
   "source": [
    "Gráfica de dispersión entre las variables 'pes' e 'inev'"
   ]
  },
  {
   "cell_type": "code",
   "execution_count": 24,
   "metadata": {},
   "outputs": [],
   "source": [
    "micro_milagro.to_csv('micro_milagro.csv', index=False)"
   ]
  },
  {
   "cell_type": "code",
   "execution_count": 25,
   "metadata": {},
   "outputs": [
    {
     "data": {
      "image/png": "[encoded data removed]",
      "text/plain": [
       "<Figure size 640x480 with 1 Axes>"
      ]
     },
     "metadata": {},
     "output_type": "display_data"
    },
    {
     "name": "stdout",
     "output_type": "stream",
     "text": [
      "La correlación de Pearson entre inev y pes es: 0.991\n"
     ]
    }
   ],
   "source": [
    "import matplotlib.pyplot as plt\n",
    "from scipy.stats import pearsonr\n",
    "inev = micro_milagro['inev'].tolist()\n",
    "pes = micro_milagro['pes'].tolist()\n",
    "\n",
    "\n",
    "# Asumiendo que 'inev' y 'pes' son listas\n",
    "plt.scatter(inev, pes)\n",
    "plt.xlabel('inev')\n",
    "plt.ylabel('pes')\n",
    "plt.title('Gráfica de dispersión entre inev y pes')\n",
    "plt.show()\n",
    "\n",
    "# Calcular la correlación\n",
    "corr, _ = pearsonr(inev, pes)\n",
    "print('La correlación de Pearson entre inev y pes es: %.3f' % corr)"
   ]
  },
  {
   "cell_type": "markdown",
   "metadata": {},
   "source": [
    "```{r}\n",
    "> coefficients(modelo)\n",
    "(Intercept)        inev \n",
    "  -208.1510    118.1577\n",
    "\n",
    "> summary(modelo)\n",
    "Call:\n",
    "lm(formula = pes ~ inev, data = datos)\n",
    "\n",
    "Residuals:\n",
    "    Min      1Q  Median      3Q     Max \n",
    "-25.108  -9.674  -2.684   7.963  57.923 \n",
    "\n",
    "Coefficients:\n",
    "             Estimate Std. Error t value Pr(>|t|)    \n",
    "(Intercept) -208.1510     1.9918  -104.5   <2e-16 ***\n",
    "inev         118.1577     0.2652   445.5   <2e-16 ***\n",
    "---\n",
    "Signif. codes:  0 ‘***’ 0.001 ‘**’ 0.01 ‘*’ 0.05 ‘.’ 0.1 ‘ ’ 1\n",
    "\n",
    "Residual standard error: 12.79 on 3547 degrees of freedom\n",
    "Multiple R-squared:  0.9824,\tAdjusted R-squared:  0.9824 \n",
    "F-statistic: 1.985e+05 on 1 and 3547 DF,  p-value: < 2.2e-16\n",
    "```\n",
    "\n",
    "![Validaciones del modelo](RL.png)"
   ]
  }
 ],
 "metadata": {
  "kernelspec": {
   "display_name": "p2-statistics",
   "language": "python",
   "name": "python3"
  },
  "language_info": {
   "codemirror_mode": {
    "name": "ipython",
    "version": 3
   },
   "file_extension": ".py",
   "mimetype": "text/x-python",
   "name": "python",
   "nbconvert_exporter": "python",
   "pygments_lexer": "ipython3",
   "version": "3.12.0"
  }
 },
 "nbformat": 4,
 "nbformat_minor": 2
}
